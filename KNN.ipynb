{
 "cells": [
  {
   "cell_type": "code",
   "execution_count": 16,
   "metadata": {},
   "outputs": [],
   "source": [
    "import pandas as pd\n",
    "import matplotlib.pyplot as plt\n",
    "import numpy as np\n",
    "import math"
   ]
  },
  {
   "cell_type": "markdown",
   "metadata": {},
   "source": [
    "# What is k-NN?\n",
    "\n",
    "k-NN is known as the k nearest neighbour techinique! It is used as a supervised learning model to predict the classification of a new entry\n",
    "\n",
    "We classify a new entry by looking at the 'k' nearest neighbour and the majority of the class label determines the label for the new entry"
   ]
  },
  {
   "cell_type": "markdown",
   "metadata": {},
   "source": [
    "## The 3 steps to k-NN\n",
    "\n",
    "Step 1: Calculate Euclidean Distance.\n",
    "Step 2: Get Nearest Neighbors.\n",
    "Step 3: Make Predictions."
   ]
  },
  {
   "cell_type": "markdown",
   "metadata": {},
   "source": [
    "Given a dataset, we want to first split it into training and testing dataset using k-fold splitting"
   ]
  },
  {
   "cell_type": "code",
   "execution_count": 2,
   "metadata": {},
   "outputs": [
    {
     "data": {
      "text/html": [
       "<div>\n",
       "<style scoped>\n",
       "    .dataframe tbody tr th:only-of-type {\n",
       "        vertical-align: middle;\n",
       "    }\n",
       "\n",
       "    .dataframe tbody tr th {\n",
       "        vertical-align: top;\n",
       "    }\n",
       "\n",
       "    .dataframe thead th {\n",
       "        text-align: right;\n",
       "    }\n",
       "</style>\n",
       "<table border=\"1\" class=\"dataframe\">\n",
       "  <thead>\n",
       "    <tr style=\"text-align: right;\">\n",
       "      <th></th>\n",
       "      <th>sepal.length</th>\n",
       "      <th>sepal.width</th>\n",
       "      <th>petal.length</th>\n",
       "      <th>petal.width</th>\n",
       "      <th>variety</th>\n",
       "    </tr>\n",
       "  </thead>\n",
       "  <tbody>\n",
       "    <tr>\n",
       "      <td>0</td>\n",
       "      <td>5.1</td>\n",
       "      <td>3.5</td>\n",
       "      <td>1.4</td>\n",
       "      <td>0.2</td>\n",
       "      <td>Setosa</td>\n",
       "    </tr>\n",
       "    <tr>\n",
       "      <td>1</td>\n",
       "      <td>4.9</td>\n",
       "      <td>3.0</td>\n",
       "      <td>1.4</td>\n",
       "      <td>0.2</td>\n",
       "      <td>Setosa</td>\n",
       "    </tr>\n",
       "    <tr>\n",
       "      <td>2</td>\n",
       "      <td>4.7</td>\n",
       "      <td>3.2</td>\n",
       "      <td>1.3</td>\n",
       "      <td>0.2</td>\n",
       "      <td>Setosa</td>\n",
       "    </tr>\n",
       "    <tr>\n",
       "      <td>3</td>\n",
       "      <td>4.6</td>\n",
       "      <td>3.1</td>\n",
       "      <td>1.5</td>\n",
       "      <td>0.2</td>\n",
       "      <td>Setosa</td>\n",
       "    </tr>\n",
       "    <tr>\n",
       "      <td>4</td>\n",
       "      <td>5.0</td>\n",
       "      <td>3.6</td>\n",
       "      <td>1.4</td>\n",
       "      <td>0.2</td>\n",
       "      <td>Setosa</td>\n",
       "    </tr>\n",
       "  </tbody>\n",
       "</table>\n",
       "</div>"
      ],
      "text/plain": [
       "   sepal.length  sepal.width  petal.length  petal.width variety\n",
       "0           5.1          3.5           1.4          0.2  Setosa\n",
       "1           4.9          3.0           1.4          0.2  Setosa\n",
       "2           4.7          3.2           1.3          0.2  Setosa\n",
       "3           4.6          3.1           1.5          0.2  Setosa\n",
       "4           5.0          3.6           1.4          0.2  Setosa"
      ]
     },
     "execution_count": 2,
     "metadata": {},
     "output_type": "execute_result"
    }
   ],
   "source": [
    "df = pd.read_csv('iris.csv')\n",
    "df.head()"
   ]
  },
  {
   "cell_type": "code",
   "execution_count": 31,
   "metadata": {},
   "outputs": [
    {
     "data": {
      "text/plain": [
       "sepal.length       5.1\n",
       "sepal.width        3.5\n",
       "petal.length       1.4\n",
       "petal.width        0.2\n",
       "variety         Setosa\n",
       "Name: 0, dtype: object"
      ]
     },
     "execution_count": 31,
     "metadata": {},
     "output_type": "execute_result"
    }
   ],
   "source": [
    "df.shape[0]\n",
    "df.iloc[0,:]"
   ]
  },
  {
   "cell_type": "markdown",
   "metadata": {},
   "source": [
    "Each row of data corrsponds to one flower and the variety, hence, since the variables are all continuous, we can actually find the euclidean distance between every flower. "
   ]
  },
  {
   "attachments": {
    "image.png": {
     "image/png": "[encoded data removed]"
    }
   },
   "cell_type": "markdown",
   "metadata": {},
   "source": [
    "![image.png](attachment:image.png)"
   ]
  },
  {
   "cell_type": "code",
   "execution_count": 33,
   "metadata": {},
   "outputs": [],
   "source": [
    "def euclid_dist(row1,row2):\n",
    "    dist = 0\n",
    "    #here we assume that every row is a list/matrix and we want to find the distance \n",
    "    for i in range(len(row1)):\n",
    "        dist += (row1[i]-row2[i])**2\n",
    "    return math.sqrt(dist)"
   ]
  },
  {
   "cell_type": "code",
   "execution_count": 35,
   "metadata": {},
   "outputs": [
    {
     "data": {
      "text/plain": [
       "3.7416573867739413"
      ]
     },
     "execution_count": 35,
     "metadata": {},
     "output_type": "execute_result"
    }
   ],
   "source": [
    "#let us test the formula\n",
    "row1 = [2,3,4]\n",
    "row2 = [1,1,1]\n",
    "euclid_dist(row1,row2)\n",
    "#if we get 3.74, the formula is correct"
   ]
  },
  {
   "cell_type": "markdown",
   "metadata": {},
   "source": [
    "now we need to store all the distances from every row relative to a new entry and then rank the distances"
   ]
  },
  {
   "cell_type": "code",
   "execution_count": 124,
   "metadata": {},
   "outputs": [],
   "source": [
    "def kNN(k,new_entry,data,target):\n",
    "    distances = []\n",
    "    res=[]\n",
    "    for i in range(data.shape[0]):\n",
    "        #we append the distance for the distance between the new entry and the every datapoint\n",
    "        distances.append([euclid_dist(new_entry,data.iloc[i,:]),target[i]])\n",
    "    #print(distances)\n",
    "    \n",
    "    # we want the disrances to be sorted by the least to the most\n",
    "    distances.sort()\n",
    "    #print(distances)\n",
    "    \n",
    "    #next we only pick the 'k' nearest neighbour to be considered\n",
    "    consideration = distances[:k]\n",
    "    #print(consideration)\n",
    "    \n",
    "    #now we need to conduct voting and find the label for the data\n",
    "    for j in range(k):\n",
    "        res.append(consideration[j][-1])\n",
    "    return max(res)\n",
    "    \n",
    "        \n",
    "        "
   ]
  },
  {
   "cell_type": "code",
   "execution_count": 93,
   "metadata": {},
   "outputs": [
    {
     "name": "stdout",
     "output_type": "stream",
     "text": [
      "[[3.539774004085572, 'Setosa'], [3.608323710533743, 'Setosa'], [3.698648401781386, 'Setosa'], [3.8236108588610325, 'Setosa'], [3.8301436004411116, 'Setosa'], [3.8948684188300895, 'Setosa'], [3.925557285278104, 'Setosa'], [4.014971979976947, 'Setosa'], [4.076763422127901, 'Setosa'], [4.202380277890139, 'Setosa']]\n",
      "[[3.539774004085572, 'Setosa'], [3.608323710533743, 'Setosa'], [3.698648401781386, 'Setosa']]\n"
     ]
    },
    {
     "data": {
      "text/plain": [
       "'Setosa'"
      ]
     },
     "execution_count": 93,
     "metadata": {},
     "output_type": "execute_result"
    }
   ],
   "source": [
    "## this is for testing\n",
    "\n",
    "labels = df.iloc[:,-1]\n",
    "#print(labels)\n",
    "indep = df.drop(columns=['variety'],axis=1)\n",
    "#print(indep)\n",
    "kNN(3,[2,3,4],indep.iloc[0:10,:],labels)"
   ]
  },
  {
   "cell_type": "markdown",
   "metadata": {},
   "source": [
    "## Now let us create a sample dataset to test this"
   ]
  },
  {
   "cell_type": "code",
   "execution_count": 113,
   "metadata": {},
   "outputs": [
    {
     "data": {
      "text/plain": [
       "<matplotlib.collections.PathCollection at 0x1e466e7cf88>"
      ]
     },
     "execution_count": 113,
     "metadata": {},
     "output_type": "execute_result"
    },
    {
     "data": {
      "image/png": "[encoded data removed]",
      "text/plain": [
       "<Figure size 432x288 with 1 Axes>"
      ]
     },
     "metadata": {
      "needs_background": "light"
     },
     "output_type": "display_data"
    }
   ],
   "source": [
    "sample_data2= pd.DataFrame([[0,1,0],[1,1,0],[2,3,0],[10,10,1],[11,12,1],[15,13,1],[10,1,2],[11,2,2],[14,1,2]])\n",
    "sample_data= np.array([[0,1,0],[1,1,0],[2,3,0],[10,10,1],[11,12,1],[15,13,1],[10,1,2],[11,2,2],[14,1,2]])\n",
    "plt.scatter(sample_data[:,0],sample_data[:,1],c=sample_data[:,2])"
   ]
  },
  {
   "cell_type": "markdown",
   "metadata": {},
   "source": [
    "#we have created the sample dataset already, let us create a new data and test\n"
   ]
  },
  {
   "cell_type": "code",
   "execution_count": 127,
   "metadata": {},
   "outputs": [
    {
     "name": "stdout",
     "output_type": "stream",
     "text": [
      "The label is 2\n",
      "The label is 0\n",
      "The label is 1\n"
     ]
    }
   ],
   "source": [
    "test_data1 = [8,2]\n",
    "test_data2 = [1.5,2]\n",
    "test_data3 = [10,12]\n",
    "trg = sample_data2.iloc[:,0:2]\n",
    "target = sample_data2.iloc[:,2]\n",
    "#print(target)\n",
    "#print(trg)\n",
    "\n",
    "#let us test the data\n",
    "print('The label is {}'.format(kNN(3,test_data1,trg,target))) # we expect this to be 2\n",
    "print('The label is {}'.format(kNN(3,test_data2,trg,target))) # we expect this to be 0\n",
    "print('The label is {}'.format(kNN(3,test_data3,trg,target))) # we expect this to be 1"
   ]
  }
 ],
 "metadata": {
  "kernelspec": {
   "display_name": "Python 3",
   "language": "python",
   "name": "python3"
  },
  "language_info": {
   "codemirror_mode": {
    "name": "ipython",
    "version": 3
   },
   "file_extension": ".py",
   "mimetype": "text/x-python",
   "name": "python",
   "nbconvert_exporter": "python",
   "pygments_lexer": "ipython3",
   "version": "3.7.4"
  }
 },
 "nbformat": 4,
 "nbformat_minor": 2
}
